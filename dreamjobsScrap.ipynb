{
 "cells": [
  {
   "cell_type": "code",
   "execution_count": null,
   "metadata": {},
   "outputs": [],
   "source": [
    "from selenium import webdriver\n",
    "import pandas as pd\n",
    "from sqlalchemy import create_engine\n",
    "from selenium.webdriver.chrome.options import Options\n",
    "from selenium.webdriver.common.by import By"
   ]
  },
  {
   "cell_type": "markdown",
   "metadata": {},
   "source": [
    "#Variables"
   ]
  },
  {
   "cell_type": "code",
   "execution_count": null,
   "metadata": {},
   "outputs": [],
   "source": [
    "url = 'https://dreamjo.bs/hu/jobs'\n",
    "\n",
    "databasename = str(pd.to_datetime(\"today\").date()) + ' dreamjo_bs.db'\n",
    "engine = create_engine('sqlite:///' + databasename, echo=False)\n",
    "\n",
    "job_description = {\n",
    "    'Indicator' : [],\n",
    "    'Company' : [],\n",
    "    'Position' : [],\n",
    "    'PositionInfo' : [],\n",
    "    'Type' : [],\n",
    "    'SalaryInfo' : [],\n",
    "    'Salary' : [],\n",
    "    'Link' : []\n",
    "}"
   ]
  },
  {
   "cell_type": "markdown",
   "metadata": {},
   "source": [
    "# Chrome Driver setup"
   ]
  },
  {
   "cell_type": "code",
   "execution_count": null,
   "metadata": {},
   "outputs": [],
   "source": [
    "chrome_options = Options()\n",
    "chrome_options.add_argument(\"--window-size=1920,1080\")\n",
    "chrome_options.add_argument(\"--headless\")\n",
    "chrome_options.add_argument(\"--log-level=3\")\n",
    "driver = webdriver.Chrome(options=chrome_options)  # options=chrome_options\n",
    "driver.get(url)"
   ]
  },
  {
   "cell_type": "code",
   "execution_count": null,
   "metadata": {},
   "outputs": [],
   "source": [
    "def getjobsection():\n",
    "    elements = driver.find_elements(By.CLASS_NAME , 'page-section')\n",
    "    for i in range(len(elements)):\n",
    "        if  elements[i].get_attribute('class') == 'page-section' :\n",
    "            jobsection = elements[i]\n",
    "    return jobsection"
   ]
  },
  {
   "cell_type": "code",
   "execution_count": null,
   "metadata": {},
   "outputs": [],
   "source": [
    "def dictappend():\n",
    "    jobpage = getjobsection()\n",
    "    company = jobpage.find_elements(By.CLASS_NAME, 'job-card-ultimate__company-name')\n",
    "    position = jobpage.find_elements(By.CLASS_NAME, 'job-card-ultimate__job-name')\n",
    "    positionInfo = jobpage.find_elements(By.CLASS_NAME, 'job-card-ultimate__tags ')\n",
    "    type = jobpage.find_elements(By.CLASS_NAME, 'job-card-ultimate__header-category-tag')\n",
    "    salaryInfo = jobpage.find_elements(By.CLASS_NAME, 'salary-label__type')\n",
    "    salary = jobpage.find_elements(By.CLASS_NAME, 'salary-label__salary ')\n",
    "    link = jobpage.find_elements(By.CLASS_NAME, 'job-card-ultimate__job-name') \n",
    "    for i in range(len(company)):\n",
    "        indexincrement = len(job_description['Indicator'])\n",
    "        job_description['Indicator'].append(indexincrement)\n",
    "        job_description[ 'Company'].append(company[i].text)\n",
    "        job_description[ 'Position'].append(position[i].text)\n",
    "        job_description['PositionInfo'].append(positionInfo[i].text.replace('\\n' , ' '))\n",
    "        job_description[ 'Type'].append(type[i].text)\n",
    "        job_description['SalaryInfo'].append(salaryInfo[i].text)\n",
    "        job_description['Salary'].append(salary[i].text)\n",
    "        job_description['Link' ].append(link[i].get_attribute('href'))\n"
   ]
  },
  {
   "cell_type": "markdown",
   "metadata": {},
   "source": [
    "# Paging "
   ]
  },
  {
   "cell_type": "code",
   "execution_count": null,
   "metadata": {},
   "outputs": [],
   "source": [
    "page=1\n",
    "while True:\n",
    "    url=\"https://dreamjo.bs/hu/jobs?page=\"+str(page)\n",
    "    driver.get(url)\n",
    "    if len(driver.find_elements(By.CLASS_NAME,'error-code')) == 1:\n",
    "        break\n",
    "    dictappend()\n",
    "    page += 1\n",
    "    print(f\"Current page : {url}\")\n",
    "    print(f\"Jobs count : {len(job_description['Indicator'])}\")\n",
    "    "
   ]
  },
  {
   "cell_type": "markdown",
   "metadata": {},
   "source": [
    "# Scraped data to XLSX and Db"
   ]
  },
  {
   "cell_type": "code",
   "execution_count": null,
   "metadata": {},
   "outputs": [],
   "source": [
    "df = pd.DataFrame(job_description)\n",
    "df = df.drop('Indicator', axis=1)\n",
    "df.to_excel(str(pd.to_datetime(\"today\").date()) + ' dreamjo_bs.xlsx')\n",
    "df.to_sql('job_description', con=engine, if_exists='append')\n",
    "driver.quit()"
   ]
  }
 ],
 "metadata": {
  "interpreter": {
   "hash": "3c394ac78fdf976952d2acc1f26b2adca52363cc50b56ef2c2a58e571e9ad933"
  },
  "kernelspec": {
   "display_name": "Python 3.9.7 64-bit ('base': conda)",
   "language": "python",
   "name": "python3"
  },
  "language_info": {
   "codemirror_mode": {
    "name": "ipython",
    "version": 3
   },
   "file_extension": ".py",
   "mimetype": "text/x-python",
   "name": "python",
   "nbconvert_exporter": "python",
   "pygments_lexer": "ipython3",
   "version": "3.9.7"
  },
  "orig_nbformat": 4
 },
 "nbformat": 4,
 "nbformat_minor": 2
}
